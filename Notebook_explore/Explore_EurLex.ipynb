{
  "cells": [
    {
      "cell_type": "markdown",
      "metadata": {
        "id": "XQa-9Kqy5Eoh"
      },
      "source": [
        "## Eur-Lex : 3 principales options disponibles:"
      ]
    },
    {
      "cell_type": "markdown",
      "metadata": {
        "id": "QJUEJEZ2LwX_"
      },
      "source": [
        "\n",
        "1 - Service Web EUR-Lex : d'effectuer des recherches et de récupérer des métadonnées sur les documents juridiques. Ce service offre des options de requête similaires à celles de la recherche experte sur le site web et délivre les données au format XML.\n",
        "\n",
        "2 - API RESTful de Cellar : permet de récupérer des ensembles spécifiques de métadonnées (notices) et de télécharger le contenu des documents dans divers formats (PDF, HTML, etc.). Est accessible sans inscription préalable\n",
        "\n",
        "\n",
        "3 - Point d'accès SPARQL : Pour des requêtes plus complexes, EUR-Lex met à disposition un point d'accès SPARQL permettant d'interroger directement les métadonnées disponibles dans le référentiel Cellar. Cela offre une flexibilité accrue pour extraire des informations précises sur les documents juridiques"
      ]
    },
    {
      "cell_type": "markdown",
      "metadata": {
        "id": "T_Do0rpVNOTW"
      },
      "source": [
        "### 1.1 - Méthode 1 - SPARQL"
      ]
    },
    {
      "cell_type": "markdown",
      "metadata": {},
      "source": [
        "Deux fonctions: \n",
        "- celextourl_data\n",
        "- celextourl_getlink_full\n",
        "- celextourl_getlink"
      ]
    },
    {
      "cell_type": "code",
      "execution_count": 85,
      "metadata": {
        "id": "QwMGICsbob1X"
      },
      "outputs": [],
      "source": [
        "from SPARQLWrapper import SPARQLWrapper, JSON\n",
        "\n",
        "def celextourl_data(endpoint_url, celex_id):\n",
        "\n",
        "    # Préparer la requête SPARQL\n",
        "    query = f\"\"\"\n",
        "    PREFIX cdm: <http://publications.europa.eu/ontology/cdm#>\n",
        "    PREFIX xsd: <http://www.w3.org/2001/XMLSchema#>\n",
        "\n",
        "    SELECT ?property ?value\n",
        "    WHERE {{\n",
        "      ?acte cdm:resource_legal_id_celex \"{celex_id}\"^^xsd:string ;\n",
        "            ?property ?value .\n",
        "    }}\n",
        "    \"\"\"\n",
        "\n",
        "    # Initialiser le wrapper SPARQL\n",
        "    sparql = SPARQLWrapper(endpoint_url) #inject url endpoint\n",
        "    sparql.setQuery(query)               # inject query\n",
        "    sparql.setReturnFormat(JSON)          # set in json format\n",
        "    results = sparql.query().convert()   # run\n",
        "    return results"
      ]
    },
    {
      "cell_type": "code",
      "execution_count": 86,
      "metadata": {
        "id": "le43ZhPYov3-"
      },
      "outputs": [],
      "source": [
        "json_res= celextourl_data('https://publications.europa.eu/webapi/rdf/sparql', \"32019L2177\")"
      ]
    },
    {
      "cell_type": "code",
      "execution_count": 81,
      "metadata": {
        "id": "7wEixmb-o8wL"
      },
      "outputs": [],
      "source": [
        "def celextourl_getlink_full(sparql_json):\n",
        "    bindings = sparql_json[\"results\"][\"bindings\"]\n",
        "    return {\n",
        "        \"date_creation\": next(b[\"value\"][\"value\"] for b in bindings if b[\"property\"][\"value\"] == \"http://publications.europa.eu/ontology/cdm#date_creation_legacy\"),\n",
        "        \"lien_adopted\": next(b[\"value\"][\"value\"] for b in bindings if b[\"property\"][\"value\"] == \"http://www.w3.org/2002/07/owl#sameAs\" ),\n",
        "        \"date_entry_into_force\": next(b[\"value\"][\"value\"] for b in bindings if b[\"property\"][\"value\"] == \"http://publications.europa.eu/ontology/cdm#resource_legal_date_entry-into-force\"),\n",
        "        \"date_signature\": next(b[\"value\"][\"value\"] for b in bindings if b[\"property\"][\"value\"] == \"http://publications.europa.eu/ontology/cdm#resource_legal_date_signature\")\n",
        "    }\n"
      ]
    },
    {
      "cell_type": "code",
      "execution_count": 82,
      "metadata": {
        "colab": {
          "base_uri": "https://localhost:8080/"
        },
        "id": "l6U8l94UpN0W",
        "outputId": "9ccdf75b-c033-41ed-eb8b-01911a025890"
      },
      "outputs": [
        {
          "data": {
            "text/plain": [
              "{'date_creation': '2019-12-27',\n",
              " 'lien_adopted': 'http://publications.europa.eu/resource/celex/32019L2177',\n",
              " 'date_entry_into_force': '2019-12-30',\n",
              " 'date_signature': '2019-12-18'}"
            ]
          },
          "execution_count": 82,
          "metadata": {},
          "output_type": "execute_result"
        }
      ],
      "source": [
        "celextourl_getlink_full(json_res)"
      ]
    },
    {
      "cell_type": "code",
      "execution_count": 83,
      "metadata": {
        "id": "x-USwUO-s4Ct"
      },
      "outputs": [],
      "source": [
        "def celextourl_getlink(sparql_json):\n",
        "    bindings = sparql_json[\"results\"][\"bindings\"]\n",
        "    return next(b[\"value\"][\"value\"] for b in bindings\n",
        "                if b[\"property\"][\"value\"] == \"http://www.w3.org/2002/07/owl#sameAs\" )"
      ]
    },
    {
      "cell_type": "code",
      "execution_count": 84,
      "metadata": {
        "colab": {
          "base_uri": "https://localhost:8080/",
          "height": 35
        },
        "id": "CVTXbSJutdXK",
        "outputId": "fd2790a7-8e15-4340-f236-2d8977077cff"
      },
      "outputs": [
        {
          "data": {
            "text/plain": [
              "'http://publications.europa.eu/resource/celex/32019L2177'"
            ]
          },
          "execution_count": 84,
          "metadata": {},
          "output_type": "execute_result"
        }
      ],
      "source": [
        "celextourl_getlink(json_res)"
      ]
    }
  ],
  "metadata": {
    "colab": {
      "collapsed_sections": [
        "1WzVJO25LoAF"
      ],
      "provenance": []
    },
    "kernelspec": {
      "display_name": "Python 3.10 (tensorflow)3",
      "language": "python",
      "name": "tensorflow"
    },
    "language_info": {
      "codemirror_mode": {
        "name": "ipython",
        "version": 3
      },
      "file_extension": ".py",
      "mimetype": "text/x-python",
      "name": "python",
      "nbconvert_exporter": "python",
      "pygments_lexer": "ipython3",
      "version": "3.10.12"
    }
  },
  "nbformat": 4,
  "nbformat_minor": 0
}
