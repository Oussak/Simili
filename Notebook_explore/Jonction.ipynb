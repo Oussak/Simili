{
 "cells": [
  {
   "cell_type": "code",
   "execution_count": null,
   "metadata": {},
   "outputs": [],
   "source": []
  },
  {
   "cell_type": "markdown",
   "metadata": {},
   "source": [
    "###  API LégiFrance -  EurLex juncion"
   ]
  },
  {
   "cell_type": "code",
   "execution_count": 5,
   "metadata": {},
   "outputs": [],
   "source": [
    "client_id = '2bd5c3ac-5128-4527-b74f-5d3e90e47efb'\n",
    "client_secret = 'de5cf33d-fbee-4368-8fe9-e803490fe096'"
   ]
  },
  {
   "cell_type": "code",
   "execution_count": 6,
   "metadata": {},
   "outputs": [],
   "source": [
    "import os\n",
    "from dotenv import load_dotenv\n",
    "import requests\n",
    "from requests_oauthlib import OAuth2Session\n",
    "import json"
   ]
  },
  {
   "cell_type": "code",
   "execution_count": 7,
   "metadata": {},
   "outputs": [],
   "source": [
    "def get_token():\n",
    "    token_url = 'https://sandbox-oauth.piste.gouv.fr/api/oauth/token'\n",
    "    #inject cred \n",
    "    token_data = {\n",
    "    'grant_type': 'client_credentials',\n",
    "    'client_id': client_id,\n",
    "    'client_secret': client_secret,\n",
    "    'scope': 'openid'}\n",
    "    response = requests.post(token_url, data=token_data)\n",
    "    response.raise_for_status()  # vérif  erreurs\n",
    "    # récup  jeton\n",
    "    token_info = response.json()\n",
    "    global access_token\n",
    "    access_token = token_info['access_token']\n",
    "    return access_token\n"
   ]
  },
  {
   "cell_type": "code",
   "execution_count": 9,
   "metadata": {},
   "outputs": [],
   "source": [
    "import requests\n",
    "\n",
    "def ping_pong_test():\n",
    "    headers_1 = {'accept': 'text/plain', 'Authorization': 'Bearer ' + access_token}\n",
    "    output = requests.get(\"https://sandbox-api.piste.gouv.fr/dila/legifrance/lf-engine-app/consult/ping\", headers=headers_1).text\n",
    "    display(output)"
   ]
  },
  {
   "cell_type": "code",
   "execution_count": 10,
   "metadata": {},
   "outputs": [
    {
     "data": {
      "text/plain": [
       "'pong'"
      ]
     },
     "metadata": {},
     "output_type": "display_data"
    }
   ],
   "source": [
    "ping_pong_test()"
   ]
  }
 ],
 "metadata": {
  "kernelspec": {
   "display_name": "Python 3.10 (tensorflow)3",
   "language": "python",
   "name": "tensorflow"
  },
  "language_info": {
   "codemirror_mode": {
    "name": "ipython",
    "version": 3
   },
   "file_extension": ".py",
   "mimetype": "text/x-python",
   "name": "python",
   "nbconvert_exporter": "python",
   "pygments_lexer": "ipython3",
   "version": "3.10.12"
  }
 },
 "nbformat": 4,
 "nbformat_minor": 2
}
